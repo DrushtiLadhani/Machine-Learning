{
 "cells": [
  {
   "cell_type": "code",
   "execution_count": 4,
   "id": "f7f8947d",
   "metadata": {},
   "outputs": [],
   "source": [
    "import numpy as np"
   ]
  },
  {
   "cell_type": "code",
   "execution_count": 5,
   "id": "27e50b0b",
   "metadata": {},
   "outputs": [],
   "source": [
    "# array for range"
   ]
  },
  {
   "cell_type": "code",
   "execution_count": 6,
   "id": "c9f78f9c",
   "metadata": {},
   "outputs": [
    {
     "data": {
      "text/plain": [
       "array([0, 1, 2, 3, 4, 5, 6, 7, 8, 9])"
      ]
     },
     "execution_count": 6,
     "metadata": {},
     "output_type": "execute_result"
    }
   ],
   "source": [
    "np.arange(0,10)"
   ]
  },
  {
   "cell_type": "code",
   "execution_count": 7,
   "id": "9711104d",
   "metadata": {},
   "outputs": [],
   "source": [
    "# if we want our range in interval "
   ]
  },
  {
   "cell_type": "code",
   "execution_count": 8,
   "id": "0335e2a5",
   "metadata": {},
   "outputs": [
    {
     "data": {
      "text/plain": [
       "array([ 0,  1,  2,  3,  4,  5,  6,  7,  8,  9, 10, 11, 12, 13, 14, 15, 16,\n",
       "       17, 18, 19, 20, 21, 22, 23, 24, 25, 26, 27, 28, 29, 30, 31, 32, 33,\n",
       "       34, 35, 36, 37, 38, 39, 40, 41, 42, 43, 44, 45, 46, 47, 48, 49])"
      ]
     },
     "execution_count": 8,
     "metadata": {},
     "output_type": "execute_result"
    }
   ],
   "source": [
    "np.arange(0,50)"
   ]
  },
  {
   "cell_type": "code",
   "execution_count": 9,
   "id": "63435f54",
   "metadata": {},
   "outputs": [
    {
     "data": {
      "text/plain": [
       "array([ 0,  2,  4,  6,  8, 10, 12, 14, 16, 18, 20, 22, 24, 26, 28, 30, 32,\n",
       "       34, 36, 38, 40, 42, 44, 46, 48])"
      ]
     },
     "execution_count": 9,
     "metadata": {},
     "output_type": "execute_result"
    }
   ],
   "source": [
    "np.arange(0,50,2)"
   ]
  },
  {
   "cell_type": "code",
   "execution_count": 10,
   "id": "cda55972",
   "metadata": {},
   "outputs": [
    {
     "data": {
      "text/plain": [
       "array([ 0,  3,  6,  9, 12, 15, 18, 21, 24, 27, 30, 33, 36, 39, 42, 45, 48])"
      ]
     },
     "execution_count": 10,
     "metadata": {},
     "output_type": "execute_result"
    }
   ],
   "source": [
    "np.arange(0,50,3)"
   ]
  },
  {
   "cell_type": "code",
   "execution_count": 11,
   "id": "df3d2952",
   "metadata": {},
   "outputs": [
    {
     "data": {
      "text/plain": [
       "array([ 0,  4,  8, 12, 16, 20, 24, 28, 32, 36, 40, 44, 48])"
      ]
     },
     "execution_count": 11,
     "metadata": {},
     "output_type": "execute_result"
    }
   ],
   "source": [
    "np.arange(0,50,4)"
   ]
  },
  {
   "cell_type": "code",
   "execution_count": 12,
   "id": "b8403bf2",
   "metadata": {},
   "outputs": [
    {
     "data": {
      "text/plain": [
       "array([ 0,  5, 10, 15, 20, 25, 30, 35, 40, 45])"
      ]
     },
     "execution_count": 12,
     "metadata": {},
     "output_type": "execute_result"
    }
   ],
   "source": [
    "np.arange(0,50,5)"
   ]
  },
  {
   "cell_type": "code",
   "execution_count": 13,
   "id": "c75d8cb6",
   "metadata": {},
   "outputs": [],
   "source": [
    "# array of 0,1 number"
   ]
  },
  {
   "cell_type": "code",
   "execution_count": 14,
   "id": "c79effc3",
   "metadata": {},
   "outputs": [
    {
     "data": {
      "text/plain": [
       "array([0., 0., 0., 0., 0.])"
      ]
     },
     "execution_count": 14,
     "metadata": {},
     "output_type": "execute_result"
    }
   ],
   "source": [
    "np.zeros(5)"
   ]
  },
  {
   "cell_type": "code",
   "execution_count": 15,
   "id": "965b9c94",
   "metadata": {},
   "outputs": [
    {
     "data": {
      "text/plain": [
       "array([[0., 0., 0., 0.],\n",
       "       [0., 0., 0., 0.],\n",
       "       [0., 0., 0., 0.]])"
      ]
     },
     "execution_count": 15,
     "metadata": {},
     "output_type": "execute_result"
    }
   ],
   "source": [
    "np.zeros((3,4))"
   ]
  },
  {
   "cell_type": "code",
   "execution_count": 16,
   "id": "ac79fcd9",
   "metadata": {},
   "outputs": [
    {
     "data": {
      "text/plain": [
       "array([1., 1., 1., 1., 1.])"
      ]
     },
     "execution_count": 16,
     "metadata": {},
     "output_type": "execute_result"
    }
   ],
   "source": [
    "np.ones(5)"
   ]
  },
  {
   "cell_type": "code",
   "execution_count": 17,
   "id": "1a9d3486",
   "metadata": {},
   "outputs": [],
   "source": [
    "# linspace- space between the elements"
   ]
  },
  {
   "cell_type": "code",
   "execution_count": 18,
   "id": "e3ae8bf9",
   "metadata": {},
   "outputs": [
    {
     "data": {
      "text/plain": [
       "array([ 0., 10.])"
      ]
     },
     "execution_count": 18,
     "metadata": {},
     "output_type": "execute_result"
    }
   ],
   "source": [
    "np.linspace(0,10,2)"
   ]
  },
  {
   "cell_type": "code",
   "execution_count": 19,
   "id": "03fadca3",
   "metadata": {},
   "outputs": [
    {
     "data": {
      "text/plain": [
       "array([ 0.,  5., 10.])"
      ]
     },
     "execution_count": 19,
     "metadata": {},
     "output_type": "execute_result"
    }
   ],
   "source": [
    "np.linspace(0,10,3)"
   ]
  },
  {
   "cell_type": "code",
   "execution_count": 20,
   "id": "eda700cf",
   "metadata": {},
   "outputs": [
    {
     "data": {
      "text/plain": [
       "array([ 0.        ,  3.33333333,  6.66666667, 10.        ])"
      ]
     },
     "execution_count": 20,
     "metadata": {},
     "output_type": "execute_result"
    }
   ],
   "source": [
    "np.linspace(0,10,4)"
   ]
  },
  {
   "cell_type": "code",
   "execution_count": 21,
   "id": "8101951a",
   "metadata": {},
   "outputs": [
    {
     "data": {
      "text/plain": [
       "array([ 0. ,  2.5,  5. ,  7.5, 10. ])"
      ]
     },
     "execution_count": 21,
     "metadata": {},
     "output_type": "execute_result"
    }
   ],
   "source": [
    "np.linspace(0,10,5)"
   ]
  },
  {
   "cell_type": "code",
   "execution_count": 22,
   "id": "c5322dc8",
   "metadata": {},
   "outputs": [],
   "source": [
    "# eye-rows and column are same and will get one diagonally and zeros at the rest"
   ]
  },
  {
   "cell_type": "code",
   "execution_count": 23,
   "id": "095ce767",
   "metadata": {},
   "outputs": [
    {
     "data": {
      "text/plain": [
       "array([[1., 0., 0., 0., 0.],\n",
       "       [0., 1., 0., 0., 0.],\n",
       "       [0., 0., 1., 0., 0.],\n",
       "       [0., 0., 0., 1., 0.],\n",
       "       [0., 0., 0., 0., 1.]])"
      ]
     },
     "execution_count": 23,
     "metadata": {},
     "output_type": "execute_result"
    }
   ],
   "source": [
    "np.eye(5)"
   ]
  },
  {
   "cell_type": "code",
   "execution_count": 24,
   "id": "63c3404e",
   "metadata": {},
   "outputs": [
    {
     "data": {
      "text/plain": [
       "array([[1., 0., 0., 0., 0., 0.],\n",
       "       [0., 1., 0., 0., 0., 0.],\n",
       "       [0., 0., 1., 0., 0., 0.],\n",
       "       [0., 0., 0., 1., 0., 0.],\n",
       "       [0., 0., 0., 0., 1., 0.],\n",
       "       [0., 0., 0., 0., 0., 1.]])"
      ]
     },
     "execution_count": 24,
     "metadata": {},
     "output_type": "execute_result"
    }
   ],
   "source": [
    "np.eye(6)"
   ]
  },
  {
   "cell_type": "code",
   "execution_count": 25,
   "id": "aa5ee618",
   "metadata": {},
   "outputs": [],
   "source": [
    "# random number"
   ]
  },
  {
   "cell_type": "code",
   "execution_count": 26,
   "id": "61294be7",
   "metadata": {},
   "outputs": [
    {
     "data": {
      "text/plain": [
       "array([0.17834137, 0.31892649, 0.25671114, 0.17501076, 0.46025113])"
      ]
     },
     "execution_count": 26,
     "metadata": {},
     "output_type": "execute_result"
    }
   ],
   "source": [
    "np.random.rand(5)"
   ]
  },
  {
   "cell_type": "code",
   "execution_count": 27,
   "id": "d1ae2a87",
   "metadata": {},
   "outputs": [
    {
     "data": {
      "text/plain": [
       "array([[0.88460707, 0.87627143, 0.71934216, 0.62474169],\n",
       "       [0.56408879, 0.82898204, 0.73747521, 0.32025321],\n",
       "       [0.95386999, 0.75058001, 0.51461314, 0.17764409]])"
      ]
     },
     "execution_count": 27,
     "metadata": {},
     "output_type": "execute_result"
    }
   ],
   "source": [
    "np.random.rand(3,4)"
   ]
  },
  {
   "cell_type": "code",
   "execution_count": 28,
   "id": "625902bf",
   "metadata": {},
   "outputs": [],
   "source": [
    "# random integer"
   ]
  },
  {
   "cell_type": "code",
   "execution_count": 29,
   "id": "8f68baff",
   "metadata": {},
   "outputs": [
    {
     "data": {
      "text/plain": [
       "10"
      ]
     },
     "execution_count": 29,
     "metadata": {},
     "output_type": "execute_result"
    }
   ],
   "source": [
    "np.random.randint(0,50)"
   ]
  },
  {
   "cell_type": "code",
   "execution_count": 30,
   "id": "0451b2ca",
   "metadata": {},
   "outputs": [
    {
     "data": {
      "text/plain": [
       "array([ 6,  1,  6,  3, 41, 17, 38, 18, 30, 32])"
      ]
     },
     "execution_count": 30,
     "metadata": {},
     "output_type": "execute_result"
    }
   ],
   "source": [
    "np.random.randint(0,50,10)"
   ]
  },
  {
   "cell_type": "code",
   "execution_count": 31,
   "id": "9efd9495",
   "metadata": {},
   "outputs": [],
   "source": [
    "# storing array"
   ]
  },
  {
   "cell_type": "code",
   "execution_count": 32,
   "id": "7ca1d9b9",
   "metadata": {},
   "outputs": [],
   "source": [
    "arr1= (np.random.randint(0,50,12))"
   ]
  },
  {
   "cell_type": "code",
   "execution_count": 33,
   "id": "8cffc73a",
   "metadata": {},
   "outputs": [
    {
     "data": {
      "text/plain": [
       "array([30, 12, 26, 24, 49, 27, 30, 26,  2, 49, 29, 43])"
      ]
     },
     "execution_count": 33,
     "metadata": {},
     "output_type": "execute_result"
    }
   ],
   "source": [
    "arr1"
   ]
  },
  {
   "cell_type": "code",
   "execution_count": 34,
   "id": "bc6f6bf6",
   "metadata": {},
   "outputs": [
    {
     "data": {
      "text/plain": [
       "(12,)"
      ]
     },
     "execution_count": 34,
     "metadata": {},
     "output_type": "execute_result"
    }
   ],
   "source": [
    "arr1.shape"
   ]
  },
  {
   "cell_type": "code",
   "execution_count": 35,
   "id": "7a723a27",
   "metadata": {},
   "outputs": [],
   "source": [
    "# reshape"
   ]
  },
  {
   "cell_type": "code",
   "execution_count": 36,
   "id": "57f2c80d",
   "metadata": {},
   "outputs": [
    {
     "data": {
      "text/plain": [
       "array([[30, 12],\n",
       "       [26, 24],\n",
       "       [49, 27],\n",
       "       [30, 26],\n",
       "       [ 2, 49],\n",
       "       [29, 43]])"
      ]
     },
     "execution_count": 36,
     "metadata": {},
     "output_type": "execute_result"
    }
   ],
   "source": [
    "arr1.reshape(6,2)"
   ]
  },
  {
   "cell_type": "code",
   "execution_count": 37,
   "id": "5c4b5601",
   "metadata": {},
   "outputs": [
    {
     "data": {
      "text/plain": [
       "array([[30, 12, 26, 24, 49, 27],\n",
       "       [30, 26,  2, 49, 29, 43]])"
      ]
     },
     "execution_count": 37,
     "metadata": {},
     "output_type": "execute_result"
    }
   ],
   "source": [
    "arr1.reshape(2,6)"
   ]
  },
  {
   "cell_type": "code",
   "execution_count": 38,
   "id": "b35270b5",
   "metadata": {},
   "outputs": [
    {
     "data": {
      "text/plain": [
       "array([[30, 12, 26],\n",
       "       [24, 49, 27],\n",
       "       [30, 26,  2],\n",
       "       [49, 29, 43]])"
      ]
     },
     "execution_count": 38,
     "metadata": {},
     "output_type": "execute_result"
    }
   ],
   "source": [
    "arr1.reshape(4,3)"
   ]
  },
  {
   "cell_type": "code",
   "execution_count": 39,
   "id": "c7e9c9cb",
   "metadata": {},
   "outputs": [
    {
     "data": {
      "text/plain": [
       "array([[30, 12, 26, 24],\n",
       "       [49, 27, 30, 26],\n",
       "       [ 2, 49, 29, 43]])"
      ]
     },
     "execution_count": 39,
     "metadata": {},
     "output_type": "execute_result"
    }
   ],
   "source": [
    "arr1.reshape(3,4)"
   ]
  },
  {
   "cell_type": "code",
   "execution_count": 40,
   "id": "d3722078",
   "metadata": {},
   "outputs": [
    {
     "data": {
      "text/plain": [
       "array([[30],\n",
       "       [12],\n",
       "       [26],\n",
       "       [24],\n",
       "       [49],\n",
       "       [27],\n",
       "       [30],\n",
       "       [26],\n",
       "       [ 2],\n",
       "       [49],\n",
       "       [29],\n",
       "       [43]])"
      ]
     },
     "execution_count": 40,
     "metadata": {},
     "output_type": "execute_result"
    }
   ],
   "source": [
    "arr1.reshape(12,1)"
   ]
  },
  {
   "cell_type": "code",
   "execution_count": 41,
   "id": "3d2dcf6a",
   "metadata": {},
   "outputs": [],
   "source": [
    "# get lowest and highest element"
   ]
  },
  {
   "cell_type": "code",
   "execution_count": 43,
   "id": "184bb102",
   "metadata": {},
   "outputs": [
    {
     "data": {
      "text/plain": [
       "array([30, 12, 26, 24, 49, 27, 30, 26,  2, 49, 29, 43])"
      ]
     },
     "execution_count": 43,
     "metadata": {},
     "output_type": "execute_result"
    }
   ],
   "source": [
    "arr1"
   ]
  },
  {
   "cell_type": "code",
   "execution_count": 42,
   "id": "99b7c72a",
   "metadata": {},
   "outputs": [
    {
     "data": {
      "text/plain": [
       "2"
      ]
     },
     "execution_count": 42,
     "metadata": {},
     "output_type": "execute_result"
    }
   ],
   "source": [
    "arr1.min()"
   ]
  },
  {
   "cell_type": "code",
   "execution_count": 44,
   "id": "b4db31bd",
   "metadata": {},
   "outputs": [
    {
     "data": {
      "text/plain": [
       "49"
      ]
     },
     "execution_count": 44,
     "metadata": {},
     "output_type": "execute_result"
    }
   ],
   "source": [
    "arr1.max()"
   ]
  },
  {
   "cell_type": "code",
   "execution_count": 45,
   "id": "91c45374",
   "metadata": {},
   "outputs": [],
   "source": [
    "# get index number of lowest and highest element"
   ]
  },
  {
   "cell_type": "code",
   "execution_count": 46,
   "id": "ba1f7533",
   "metadata": {},
   "outputs": [
    {
     "data": {
      "text/plain": [
       "4"
      ]
     },
     "execution_count": 46,
     "metadata": {},
     "output_type": "execute_result"
    }
   ],
   "source": [
    "arr1.argmax()"
   ]
  },
  {
   "cell_type": "code",
   "execution_count": 47,
   "id": "42dcf598",
   "metadata": {},
   "outputs": [
    {
     "data": {
      "text/plain": [
       "8"
      ]
     },
     "execution_count": 47,
     "metadata": {},
     "output_type": "execute_result"
    }
   ],
   "source": [
    "arr1.argmin()"
   ]
  },
  {
   "cell_type": "code",
   "execution_count": 57,
   "id": "a315e5b7",
   "metadata": {},
   "outputs": [],
   "source": [
    "#get type"
   ]
  },
  {
   "cell_type": "code",
   "execution_count": 58,
   "id": "f546adbc",
   "metadata": {},
   "outputs": [],
   "source": [
    "abc= (np.random.rand(10))"
   ]
  },
  {
   "cell_type": "code",
   "execution_count": 59,
   "id": "16e5294d",
   "metadata": {},
   "outputs": [
    {
     "data": {
      "text/plain": [
       "array([0.27353346, 0.67055203, 0.9570729 , 0.78730773, 0.10506712,\n",
       "       0.71763895, 0.87520264, 0.83223624, 0.48740307, 0.97498847])"
      ]
     },
     "execution_count": 59,
     "metadata": {},
     "output_type": "execute_result"
    }
   ],
   "source": [
    "abc"
   ]
  },
  {
   "cell_type": "code",
   "execution_count": 64,
   "id": "dc2c7dc1",
   "metadata": {},
   "outputs": [],
   "source": [
    "abc1= (np.random.randint(0,100,10))"
   ]
  },
  {
   "cell_type": "code",
   "execution_count": 65,
   "id": "69274e49",
   "metadata": {},
   "outputs": [
    {
     "data": {
      "text/plain": [
       "array([31, 73,  0, 39, 89, 97, 31, 91, 43, 50])"
      ]
     },
     "execution_count": 65,
     "metadata": {},
     "output_type": "execute_result"
    }
   ],
   "source": [
    "abc1"
   ]
  },
  {
   "cell_type": "code",
   "execution_count": 66,
   "id": "ca617ed4",
   "metadata": {},
   "outputs": [
    {
     "data": {
      "text/plain": [
       "dtype('float64')"
      ]
     },
     "execution_count": 66,
     "metadata": {},
     "output_type": "execute_result"
    }
   ],
   "source": [
    "abc.dtype"
   ]
  },
  {
   "cell_type": "code",
   "execution_count": 67,
   "id": "a0cf6b6f",
   "metadata": {},
   "outputs": [
    {
     "data": {
      "text/plain": [
       "dtype('int32')"
      ]
     },
     "execution_count": 67,
     "metadata": {},
     "output_type": "execute_result"
    }
   ],
   "source": [
    "abc1.dtype"
   ]
  },
  {
   "cell_type": "code",
   "execution_count": 71,
   "id": "1add2c10",
   "metadata": {},
   "outputs": [],
   "source": [
    "text= np.array([1,4,9,16,25])"
   ]
  },
  {
   "cell_type": "code",
   "execution_count": 72,
   "id": "cfe59823",
   "metadata": {},
   "outputs": [
    {
     "data": {
      "text/plain": [
       "array([ 1,  4,  9, 16, 25])"
      ]
     },
     "execution_count": 72,
     "metadata": {},
     "output_type": "execute_result"
    }
   ],
   "source": [
    "text"
   ]
  },
  {
   "cell_type": "code",
   "execution_count": 73,
   "id": "82e293c5",
   "metadata": {},
   "outputs": [
    {
     "data": {
      "text/plain": [
       "array([1., 2., 3., 4., 5.])"
      ]
     },
     "execution_count": 73,
     "metadata": {},
     "output_type": "execute_result"
    }
   ],
   "source": [
    "np.sqrt(text) #(for square root) "
   ]
  },
  {
   "cell_type": "code",
   "execution_count": 75,
   "id": "fa908ba4",
   "metadata": {},
   "outputs": [
    {
     "data": {
      "text/plain": [
       "array([2.71828183e+00, 5.45981500e+01, 8.10308393e+03, 8.88611052e+06,\n",
       "       7.20048993e+10])"
      ]
     },
     "execution_count": 75,
     "metadata": {},
     "output_type": "execute_result"
    }
   ],
   "source": [
    "np.exp(text) #(for exponential) "
   ]
  },
  {
   "cell_type": "code",
   "execution_count": 76,
   "id": "04bfd78e",
   "metadata": {},
   "outputs": [
    {
     "data": {
      "text/plain": [
       "array([0.        , 1.38629436, 2.19722458, 2.77258872, 3.21887582])"
      ]
     },
     "execution_count": 76,
     "metadata": {},
     "output_type": "execute_result"
    }
   ],
   "source": [
    "np.log(text) #(for logarithm) "
   ]
  },
  {
   "cell_type": "code",
   "execution_count": 77,
   "id": "4d3bded9",
   "metadata": {},
   "outputs": [
    {
     "data": {
      "text/plain": [
       "array([ 0.84147098, -0.7568025 ,  0.41211849, -0.28790332, -0.13235175])"
      ]
     },
     "execution_count": 77,
     "metadata": {},
     "output_type": "execute_result"
    }
   ],
   "source": [
    "np.sin(text) #(for sin) "
   ]
  },
  {
   "cell_type": "code",
   "execution_count": 78,
   "id": "28656ce9",
   "metadata": {},
   "outputs": [
    {
     "data": {
      "text/plain": [
       "array([ 0.54030231, -0.65364362, -0.91113026, -0.95765948,  0.99120281])"
      ]
     },
     "execution_count": 78,
     "metadata": {},
     "output_type": "execute_result"
    }
   ],
   "source": [
    "np.cos(text) #(for cos)"
   ]
  },
  {
   "cell_type": "code",
   "execution_count": 79,
   "id": "db8b59c0",
   "metadata": {},
   "outputs": [
    {
     "data": {
      "text/plain": [
       "55"
      ]
     },
     "execution_count": 79,
     "metadata": {},
     "output_type": "execute_result"
    }
   ],
   "source": [
    "np.sum(text) #(for addition of all element)"
   ]
  },
  {
   "cell_type": "code",
   "execution_count": 81,
   "id": "984f2717",
   "metadata": {},
   "outputs": [
    {
     "data": {
      "text/plain": [
       "11.0"
      ]
     },
     "execution_count": 81,
     "metadata": {},
     "output_type": "execute_result"
    }
   ],
   "source": [
    "np.mean(text) #(to calculate mean)"
   ]
  },
  {
   "cell_type": "code",
   "execution_count": 82,
   "id": "48b3dafd",
   "metadata": {},
   "outputs": [
    {
     "data": {
      "text/plain": [
       "74.8"
      ]
     },
     "execution_count": 82,
     "metadata": {},
     "output_type": "execute_result"
    }
   ],
   "source": [
    "np.var(text) #(to calculate variance)"
   ]
  },
  {
   "cell_type": "code",
   "execution_count": 83,
   "id": "30579130",
   "metadata": {},
   "outputs": [
    {
     "data": {
      "text/plain": [
       "8.648699324175862"
      ]
     },
     "execution_count": 83,
     "metadata": {},
     "output_type": "execute_result"
    }
   ],
   "source": [
    "np.sqrt(np.var(text)) #(to calculate standard deviation)"
   ]
  }
 ],
 "metadata": {
  "kernelspec": {
   "display_name": "Python 3 (ipykernel)",
   "language": "python",
   "name": "python3"
  },
  "language_info": {
   "codemirror_mode": {
    "name": "ipython",
    "version": 3
   },
   "file_extension": ".py",
   "mimetype": "text/x-python",
   "name": "python",
   "nbconvert_exporter": "python",
   "pygments_lexer": "ipython3",
   "version": "3.9.7"
  }
 },
 "nbformat": 4,
 "nbformat_minor": 5
}
